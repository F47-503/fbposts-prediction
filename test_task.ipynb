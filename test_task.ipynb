{
  "nbformat": 4,
  "nbformat_minor": 0,
  "metadata": {
    "colab": {
      "provenance": []
    },
    "kernelspec": {
      "name": "python3",
      "display_name": "Python 3"
    },
    "language_info": {
      "name": "python"
    }
  },
  "cells": [
    {
      "cell_type": "code",
      "execution_count": 1,
      "metadata": {
        "id": "49_9WCTFBSFs"
      },
      "outputs": [],
      "source": [
        "import pandas as pd\n",
        "data = pd.read_csv('fb_sentiment.csv')"
      ]
    },
    {
      "cell_type": "code",
      "source": [
        "#some data analysis\n",
        "columns = data.columns\n",
        "data.drop(['Unnamed: 0'], axis=1, inplace=True)"
      ],
      "metadata": {
        "id": "dkZ9aSBMBlgu"
      },
      "execution_count": 2,
      "outputs": []
    },
    {
      "cell_type": "code",
      "source": [
        "print(data['Label'].unique(), data['Label'].isna().sum(), data['FBPost'].isna().sum())\n",
        "print(data.shape)\n",
        "#no missing values"
      ],
      "metadata": {
        "colab": {
          "base_uri": "https://localhost:8080/"
        },
        "id": "pxqZWny3Bq_h",
        "outputId": "b048d6de-341a-48fe-bd7d-df46b770f907"
      },
      "execution_count": 3,
      "outputs": [
        {
          "output_type": "stream",
          "name": "stdout",
          "text": [
            "['O' 'N' 'P'] 0 0\n",
            "(1000, 2)\n"
          ]
        }
      ]
    },
    {
      "cell_type": "code",
      "source": [
        "def encode(label):\n",
        "  if label == 'N':\n",
        "    return -1\n",
        "  if label == 'P':\n",
        "    return 1\n",
        "  return 0\n",
        "data['target'] = data['Label'].apply(encode)"
      ],
      "metadata": {
        "id": "OHqn08MiptPm"
      },
      "execution_count": 4,
      "outputs": []
    },
    {
      "cell_type": "code",
      "source": [
        "#first, let's try Tfidf vectorizer with some linear classifiers as the standart approach\n",
        "from sklearn.feature_extraction.text import TfidfVectorizer\n",
        "from sklearn.model_selection import train_test_split\n",
        "X_train, X_test, y_train, y_test = train_test_split(data['FBPost'], data['target'], test_size=0.2)\n",
        "vectorizer = TfidfVectorizer()\n",
        "train_vectors = vectorizer.fit_transform(X_train)\n",
        "test_vectors = vectorizer.transform(X_test)"
      ],
      "metadata": {
        "id": "GGbVWrBdB1nd"
      },
      "execution_count": 5,
      "outputs": []
    },
    {
      "cell_type": "code",
      "source": [
        "train_vectors.shape, test_vectors.shape"
      ],
      "metadata": {
        "colab": {
          "base_uri": "https://localhost:8080/"
        },
        "id": "dwtlgDAnDaH8",
        "outputId": "b858017c-c231-4151-f967-079e639ec5f3"
      },
      "execution_count": 6,
      "outputs": [
        {
          "output_type": "execute_result",
          "data": {
            "text/plain": [
              "((800, 2569), (200, 2569))"
            ]
          },
          "metadata": {},
          "execution_count": 6
        }
      ]
    },
    {
      "cell_type": "code",
      "source": [
        "#let's build different boosters and LogisticRegression now and compare them\n",
        "#As our dataset is really small (as well as number of words for vectorizer)\n",
        "#we can search for parameters even with iterating through each pair of lr, n_est\n",
        "from sklearn.metrics import accuracy_score\n",
        "def score_model(model):\n",
        "  model.fit(train_vectors, y_train + 1)\n",
        "  predictions = model.predict(test_vectors)\n",
        "  return accuracy_score(predictions, y_test + 1)"
      ],
      "metadata": {
        "id": "nyOhe95QDrIB"
      },
      "execution_count": 7,
      "outputs": []
    },
    {
      "cell_type": "code",
      "source": [
        "import lightgbm\n",
        "scores_lgb = []\n",
        "for lr in range(1, 40):\n",
        "  scores_row = []\n",
        "  for n_estimators in range(1, 40, 1):\n",
        "    model_lgb = lightgbm.LGBMClassifier(\n",
        "        learning_rate=lr*0.02, \n",
        "        n_estimators=n_estimators\n",
        "    )\n",
        "    scores_row.append(score_model(model_lgb))\n",
        "  scores_lgb.append(scores_row)"
      ],
      "metadata": {
        "id": "sIyrFcvSEmRT"
      },
      "execution_count": 8,
      "outputs": []
    },
    {
      "cell_type": "code",
      "source": [
        "scores_lgbm_df = pd.DataFrame(\n",
        "  scores_lgb, \n",
        "  columns=list(range(1, 40, 1)), \n",
        "  index=list(range(1, 40))\n",
        ")"
      ],
      "metadata": {
        "id": "UQeR2aqSF0Vy"
      },
      "execution_count": 9,
      "outputs": []
    },
    {
      "cell_type": "code",
      "source": [
        "import xgboost\n",
        "scores_xgb = []\n",
        "for lr in range(1, 40):\n",
        "  scores_row = []\n",
        "  for n_estimators in range(1, 40, 1):\n",
        "    model_xgb = xgboost.XGBClassifier(\n",
        "        learning_rate=lr*0.02, \n",
        "        n_estimators=n_estimators\n",
        "    )\n",
        "    scores_row.append(score_model(model_xgb))\n",
        "  scores_xgb.append(scores_row)"
      ],
      "metadata": {
        "id": "G-oK6MSRGlt6"
      },
      "execution_count": 10,
      "outputs": []
    },
    {
      "cell_type": "code",
      "source": [
        "scores_xgboost_df = pd.DataFrame(\n",
        "  scores_xgb, \n",
        "  columns=list(range(1, 40, 1)), \n",
        "  index=list(range(1, 40))\n",
        ")\n"
      ],
      "metadata": {
        "id": "J3_SmaSNGucs"
      },
      "execution_count": 11,
      "outputs": []
    },
    {
      "cell_type": "code",
      "source": [
        "from sklearn.linear_model import LogisticRegression\n",
        "print(score_model(LogisticRegression()))"
      ],
      "metadata": {
        "colab": {
          "base_uri": "https://localhost:8080/"
        },
        "id": "NK2CadUlGznj",
        "outputId": "f04cce80-5f01-4b50-86fd-533a55dae213"
      },
      "execution_count": 12,
      "outputs": [
        {
          "output_type": "stream",
          "name": "stdout",
          "text": [
            "0.775\n"
          ]
        }
      ]
    },
    {
      "cell_type": "code",
      "source": [
        "#now choose optimal parameters for each model\n",
        "import numpy as np\n",
        "optimal_lgb = scores_lgbm_df.max()\n",
        "optimal_xgb = scores_xgboost_df.max()\n",
        "print(f\"logreg score={score_model(LogisticRegression())}\")\n",
        "print(f\"Score for LGBMCLassifier is {max(optimal_lgb.values)}\")\n",
        "print(f\"Score for XGBCLassifier is {max(optimal_xgb.values)}\")"
      ],
      "metadata": {
        "colab": {
          "base_uri": "https://localhost:8080/"
        },
        "id": "OTiX3el1HMe9",
        "outputId": "3c7e9f47-119b-4012-ad75-e1254fae9ab8"
      },
      "execution_count": 13,
      "outputs": [
        {
          "output_type": "stream",
          "name": "stdout",
          "text": [
            "logreg score=0.775\n",
            "Score for LGBMCLassifier is 0.815\n",
            "Score for XGBCLassifier is 0.815\n"
          ]
        }
      ]
    },
    {
      "cell_type": "code",
      "source": [
        "#it seems that for these classifiers performance isn't bad at all \n",
        "#now we'll get values for lr, n_est\n",
        "max_est_lgb = optimal_lgb.idxmax()\n",
        "max_lr_lgb = scores_lgbm_df[max_est_lgb].idxmax()\n",
        "max_est_xgb = optimal_xgb.idxmax()\n",
        "max_lr_xgb = scores_xgboost_df[max_est_xgb].idxmax()"
      ],
      "metadata": {
        "id": "R2Sda0eOI7lh"
      },
      "execution_count": 14,
      "outputs": []
    },
    {
      "cell_type": "code",
      "source": [
        "print(max_est_lgb, max_lr_lgb*0.02)\n",
        "print(max_est_xgb, max_lr_xgb*0.02)"
      ],
      "metadata": {
        "colab": {
          "base_uri": "https://localhost:8080/"
        },
        "id": "xe6XDJJAPmak",
        "outputId": "e3fcaa9e-4210-43bd-c8c6-d5d70244bb70"
      },
      "execution_count": 15,
      "outputs": [
        {
          "output_type": "stream",
          "name": "stdout",
          "text": [
            "28 0.18\n",
            "33 0.4\n"
          ]
        }
      ]
    },
    {
      "cell_type": "code",
      "source": [
        "#now we'll do some preprocessing and try again this approach\n",
        "#score is lower with stemmer, won't use it, although it can be useful in other cases\n",
        "#from nltk.stem import PorterStemmer"
      ],
      "metadata": {
        "id": "38Ok9DWuX-kq"
      },
      "execution_count": 16,
      "outputs": []
    },
    {
      "cell_type": "code",
      "source": [
        "#stemmer = PorterStemmer()\n",
        "data['FBPost'] = data['FBPost'].str.replace('[^A-z]', ' ', regex=True)\n",
        "data['FBPost'] = data['FBPost'].str.replace('[ ]+', ' ', regex=True)"
      ],
      "metadata": {
        "id": "M2cS__KoZK7w"
      },
      "execution_count": 17,
      "outputs": []
    },
    {
      "cell_type": "code",
      "source": [
        "#data['FBPost'] = pd.Series(\n",
        "#    [' '.join([stemmer.stem(word) for word in text.split()]) for text in data['FBPost'].values]\n",
        "#)"
      ],
      "metadata": {
        "id": "amWKNehnZiqK"
      },
      "execution_count": 18,
      "outputs": []
    },
    {
      "cell_type": "code",
      "source": [
        "X_train, X_test, y_train, y_test = train_test_split(data['FBPost'], data['target'], test_size=0.2)\n",
        "vectorizer = TfidfVectorizer()\n",
        "train_vectors = vectorizer.fit_transform(X_train)\n",
        "test_vectors = vectorizer.transform(X_test)"
      ],
      "metadata": {
        "id": "bkFTgcObZ6i7"
      },
      "execution_count": 19,
      "outputs": []
    },
    {
      "cell_type": "code",
      "source": [
        "scores_lgb = []\n",
        "for lr in range(1, 40):\n",
        "  scores_row = []\n",
        "  for n_estimators in range(1, 40, 1):\n",
        "    model_lgb = lightgbm.LGBMClassifier(\n",
        "        learning_rate=lr*0.02, \n",
        "        n_estimators=n_estimators\n",
        "    )\n",
        "    scores_row.append(score_model(model_lgb))\n",
        "  scores_lgb.append(scores_row)\n",
        "scores_lgbm_df = pd.DataFrame(\n",
        "  scores_lgb, \n",
        "  columns=list(range(1, 40, 1)), \n",
        "  index=list(range(1, 40))\n",
        ")"
      ],
      "metadata": {
        "id": "TBIothLGaAE0"
      },
      "execution_count": 20,
      "outputs": []
    },
    {
      "cell_type": "code",
      "source": [
        "scores_xgb = []\n",
        "for lr in range(1, 40):\n",
        "  scores_row = []\n",
        "  for n_estimators in range(1, 40, 1):\n",
        "    model_xgb = xgboost.XGBClassifier(\n",
        "        learning_rate=lr*0.02, \n",
        "        n_estimators=n_estimators\n",
        "    )\n",
        "    scores_row.append(score_model(model_xgb))\n",
        "  scores_xgb.append(scores_row)\n",
        "scores_xgboost_df = pd.DataFrame(\n",
        "  scores_xgb, \n",
        "  columns=list(range(1, 40, 1)), \n",
        "  index=list(range(1, 40))\n",
        ")\n"
      ],
      "metadata": {
        "id": "AQwqGMSpaGsv"
      },
      "execution_count": 21,
      "outputs": []
    },
    {
      "cell_type": "code",
      "source": [
        "print(score_model(LogisticRegression()))\n",
        "optimal_lgb = scores_lgbm_df.max()\n",
        "optimal_xgb = scores_xgboost_df.max()\n",
        "print(f\"logreg score={score_model(LogisticRegression())}\")\n",
        "print(f\"Score for LGBMCLassifier is {max(optimal_lgb.values)}\")\n",
        "print(f\"Score for XGBCLassifier is {max(optimal_xgb.values)}\")\n",
        "max_est_lgb = optimal_lgb.idxmax()\n",
        "max_lr_lgb = scores_lgbm_df[max_est_lgb].idxmax()\n",
        "max_est_xgb = optimal_xgb.idxmax()\n",
        "max_lr_xgb = scores_xgboost_df[max_est_xgb].idxmax()\n",
        "print(max_est_lgb, max_lr_lgb*0.02)\n",
        "print(max_est_xgb, max_lr_xgb*0.02)"
      ],
      "metadata": {
        "colab": {
          "base_uri": "https://localhost:8080/"
        },
        "id": "bLxxJDefaRM5",
        "outputId": "01227091-bac5-4000-ed7d-486366f5e29e"
      },
      "execution_count": 22,
      "outputs": [
        {
          "output_type": "stream",
          "name": "stdout",
          "text": [
            "0.69\n",
            "logreg score=0.69\n",
            "Score for LGBMCLassifier is 0.755\n",
            "Score for XGBCLassifier is 0.82\n",
            "7 0.5\n",
            "11 0.56\n"
          ]
        }
      ]
    },
    {
      "cell_type": "code",
      "source": [
        "#overall performance is the same, but now xgboost is better"
      ],
      "metadata": {
        "id": "EDTrgzG2aYkE"
      },
      "execution_count": 23,
      "outputs": []
    },
    {
      "cell_type": "code",
      "source": [
        "X_train_reg, X_test_reg, y_train_reg, y_test_reg = train_test_split(data['FBPost'], data['target'], test_size=0.2)\n",
        "vectorizer_reg = TfidfVectorizer()\n",
        "train_vectors_reg = vectorizer_reg.fit_transform(X_train_reg)\n",
        "test_vectors_reg = vectorizer_reg.transform(X_test_reg)\n",
        "def score_regressor(model):\n",
        "  model.fit(train_vectors_reg, y_train_reg)\n",
        "  preds = model.predict(test_vectors_reg)\n",
        "  return np.linalg.norm(preds - np.array(y_test_reg.values))"
      ],
      "metadata": {
        "id": "qi2cqUPWiMzD"
      },
      "execution_count": 24,
      "outputs": []
    },
    {
      "cell_type": "code",
      "source": [
        "scores_xgb = []\n",
        "for lr in range(1, 40):\n",
        "  scores_row = []\n",
        "  for n_estimators in range(5, 100, 5):\n",
        "    model_xgb = xgboost.XGBRegressor(\n",
        "        learning_rate=lr*0.02, \n",
        "        n_estimators=n_estimators\n",
        "    )\n",
        "    scores_row.append(score_regressor(model_xgb))\n",
        "  scores_xgb.append(scores_row)\n"
      ],
      "metadata": {
        "id": "Tq98psvHhqcK"
      },
      "execution_count": 25,
      "outputs": []
    },
    {
      "cell_type": "code",
      "source": [
        "scores_xgboost_df = pd.DataFrame(\n",
        "  scores_xgb, \n",
        "  columns=list(range(5, 100, 5)), \n",
        "  index=list(range(1, 40))\n",
        ")"
      ],
      "metadata": {
        "id": "4RtaKyiRm48O"
      },
      "execution_count": 26,
      "outputs": []
    },
    {
      "cell_type": "code",
      "source": [
        "optimal_xgb_reg = scores_xgboost_df.min()\n",
        "print(f\"Score for XGBCLassifier is {min(optimal_xgb_reg.values)}\")\n",
        "min_est_xgb = optimal_xgb_reg.idxmin()\n",
        "min_lr_xgb = scores_xgboost_df[min_est_xgb].idxmin()\n",
        "print(min_est_xgb, min_lr_xgb*0.02)"
      ],
      "metadata": {
        "colab": {
          "base_uri": "https://localhost:8080/"
        },
        "id": "yZYbY2mRkFhx",
        "outputId": "a9b77cb8-fe0c-4b30-d722-1a92a5c31c1e"
      },
      "execution_count": 27,
      "outputs": [
        {
          "output_type": "stream",
          "name": "stdout",
          "text": [
            "Score for XGBCLassifier is 6.78627151318999\n",
            "90 0.16\n"
          ]
        }
      ]
    },
    {
      "cell_type": "code",
      "source": [
        "#next, we'll try to build a classifier for regressor"
      ],
      "metadata": {
        "id": "MDDScZtrjDLw"
      },
      "execution_count": 28,
      "outputs": []
    },
    {
      "cell_type": "code",
      "source": [
        "final_regressor = xgboost.XGBRegressor(learning_rate=0.52, n_estimators=90)\n",
        "final_vectorizer = TfidfVectorizer()\n",
        "vectors = final_vectorizer.fit_transform(data['FBPost'])\n",
        "final_regressor.fit(vectors, data['target'])"
      ],
      "metadata": {
        "colab": {
          "base_uri": "https://localhost:8080/",
          "height": 248
        },
        "id": "SY1fdyeAqOW_",
        "outputId": "bef8b8ea-992a-4593-dae5-45e3f667d186"
      },
      "execution_count": 29,
      "outputs": [
        {
          "output_type": "execute_result",
          "data": {
            "text/plain": [
              "XGBRegressor(base_score=None, booster=None, callbacks=None,\n",
              "             colsample_bylevel=None, colsample_bynode=None,\n",
              "             colsample_bytree=None, early_stopping_rounds=None,\n",
              "             enable_categorical=False, eval_metric=None, feature_types=None,\n",
              "             gamma=None, gpu_id=None, grow_policy=None, importance_type=None,\n",
              "             interaction_constraints=None, learning_rate=0.52, max_bin=None,\n",
              "             max_cat_threshold=None, max_cat_to_onehot=None,\n",
              "             max_delta_step=None, max_depth=None, max_leaves=None,\n",
              "             min_child_weight=None, missing=nan, monotone_constraints=None,\n",
              "             n_estimators=90, n_jobs=None, num_parallel_tree=None,\n",
              "             predictor=None, random_state=None, ...)"
            ],
            "text/html": [
              "<style>#sk-container-id-1 {color: black;background-color: white;}#sk-container-id-1 pre{padding: 0;}#sk-container-id-1 div.sk-toggleable {background-color: white;}#sk-container-id-1 label.sk-toggleable__label {cursor: pointer;display: block;width: 100%;margin-bottom: 0;padding: 0.3em;box-sizing: border-box;text-align: center;}#sk-container-id-1 label.sk-toggleable__label-arrow:before {content: \"▸\";float: left;margin-right: 0.25em;color: #696969;}#sk-container-id-1 label.sk-toggleable__label-arrow:hover:before {color: black;}#sk-container-id-1 div.sk-estimator:hover label.sk-toggleable__label-arrow:before {color: black;}#sk-container-id-1 div.sk-toggleable__content {max-height: 0;max-width: 0;overflow: hidden;text-align: left;background-color: #f0f8ff;}#sk-container-id-1 div.sk-toggleable__content pre {margin: 0.2em;color: black;border-radius: 0.25em;background-color: #f0f8ff;}#sk-container-id-1 input.sk-toggleable__control:checked~div.sk-toggleable__content {max-height: 200px;max-width: 100%;overflow: auto;}#sk-container-id-1 input.sk-toggleable__control:checked~label.sk-toggleable__label-arrow:before {content: \"▾\";}#sk-container-id-1 div.sk-estimator input.sk-toggleable__control:checked~label.sk-toggleable__label {background-color: #d4ebff;}#sk-container-id-1 div.sk-label input.sk-toggleable__control:checked~label.sk-toggleable__label {background-color: #d4ebff;}#sk-container-id-1 input.sk-hidden--visually {border: 0;clip: rect(1px 1px 1px 1px);clip: rect(1px, 1px, 1px, 1px);height: 1px;margin: -1px;overflow: hidden;padding: 0;position: absolute;width: 1px;}#sk-container-id-1 div.sk-estimator {font-family: monospace;background-color: #f0f8ff;border: 1px dotted black;border-radius: 0.25em;box-sizing: border-box;margin-bottom: 0.5em;}#sk-container-id-1 div.sk-estimator:hover {background-color: #d4ebff;}#sk-container-id-1 div.sk-parallel-item::after {content: \"\";width: 100%;border-bottom: 1px solid gray;flex-grow: 1;}#sk-container-id-1 div.sk-label:hover label.sk-toggleable__label {background-color: #d4ebff;}#sk-container-id-1 div.sk-serial::before {content: \"\";position: absolute;border-left: 1px solid gray;box-sizing: border-box;top: 0;bottom: 0;left: 50%;z-index: 0;}#sk-container-id-1 div.sk-serial {display: flex;flex-direction: column;align-items: center;background-color: white;padding-right: 0.2em;padding-left: 0.2em;position: relative;}#sk-container-id-1 div.sk-item {position: relative;z-index: 1;}#sk-container-id-1 div.sk-parallel {display: flex;align-items: stretch;justify-content: center;background-color: white;position: relative;}#sk-container-id-1 div.sk-item::before, #sk-container-id-1 div.sk-parallel-item::before {content: \"\";position: absolute;border-left: 1px solid gray;box-sizing: border-box;top: 0;bottom: 0;left: 50%;z-index: -1;}#sk-container-id-1 div.sk-parallel-item {display: flex;flex-direction: column;z-index: 1;position: relative;background-color: white;}#sk-container-id-1 div.sk-parallel-item:first-child::after {align-self: flex-end;width: 50%;}#sk-container-id-1 div.sk-parallel-item:last-child::after {align-self: flex-start;width: 50%;}#sk-container-id-1 div.sk-parallel-item:only-child::after {width: 0;}#sk-container-id-1 div.sk-dashed-wrapped {border: 1px dashed gray;margin: 0 0.4em 0.5em 0.4em;box-sizing: border-box;padding-bottom: 0.4em;background-color: white;}#sk-container-id-1 div.sk-label label {font-family: monospace;font-weight: bold;display: inline-block;line-height: 1.2em;}#sk-container-id-1 div.sk-label-container {text-align: center;}#sk-container-id-1 div.sk-container {/* jupyter's `normalize.less` sets `[hidden] { display: none; }` but bootstrap.min.css set `[hidden] { display: none !important; }` so we also need the `!important` here to be able to override the default hidden behavior on the sphinx rendered scikit-learn.org. See: https://github.com/scikit-learn/scikit-learn/issues/21755 */display: inline-block !important;position: relative;}#sk-container-id-1 div.sk-text-repr-fallback {display: none;}</style><div id=\"sk-container-id-1\" class=\"sk-top-container\"><div class=\"sk-text-repr-fallback\"><pre>XGBRegressor(base_score=None, booster=None, callbacks=None,\n",
              "             colsample_bylevel=None, colsample_bynode=None,\n",
              "             colsample_bytree=None, early_stopping_rounds=None,\n",
              "             enable_categorical=False, eval_metric=None, feature_types=None,\n",
              "             gamma=None, gpu_id=None, grow_policy=None, importance_type=None,\n",
              "             interaction_constraints=None, learning_rate=0.52, max_bin=None,\n",
              "             max_cat_threshold=None, max_cat_to_onehot=None,\n",
              "             max_delta_step=None, max_depth=None, max_leaves=None,\n",
              "             min_child_weight=None, missing=nan, monotone_constraints=None,\n",
              "             n_estimators=90, n_jobs=None, num_parallel_tree=None,\n",
              "             predictor=None, random_state=None, ...)</pre><b>In a Jupyter environment, please rerun this cell to show the HTML representation or trust the notebook. <br />On GitHub, the HTML representation is unable to render, please try loading this page with nbviewer.org.</b></div><div class=\"sk-container\" hidden><div class=\"sk-item\"><div class=\"sk-estimator sk-toggleable\"><input class=\"sk-toggleable__control sk-hidden--visually\" id=\"sk-estimator-id-1\" type=\"checkbox\" checked><label for=\"sk-estimator-id-1\" class=\"sk-toggleable__label sk-toggleable__label-arrow\">XGBRegressor</label><div class=\"sk-toggleable__content\"><pre>XGBRegressor(base_score=None, booster=None, callbacks=None,\n",
              "             colsample_bylevel=None, colsample_bynode=None,\n",
              "             colsample_bytree=None, early_stopping_rounds=None,\n",
              "             enable_categorical=False, eval_metric=None, feature_types=None,\n",
              "             gamma=None, gpu_id=None, grow_policy=None, importance_type=None,\n",
              "             interaction_constraints=None, learning_rate=0.52, max_bin=None,\n",
              "             max_cat_threshold=None, max_cat_to_onehot=None,\n",
              "             max_delta_step=None, max_depth=None, max_leaves=None,\n",
              "             min_child_weight=None, missing=nan, monotone_constraints=None,\n",
              "             n_estimators=90, n_jobs=None, num_parallel_tree=None,\n",
              "             predictor=None, random_state=None, ...)</pre></div></div></div></div></div>"
            ]
          },
          "metadata": {},
          "execution_count": 29
        }
      ]
    },
    {
      "cell_type": "code",
      "source": [
        "new_train = final_regressor.predict(vectors)\n",
        "extra_classifier = xgboost.XGBClassifier()\n",
        "X_train_extra, X_test_extra, y_train_extra, y_test_extra = train_test_split(new_train, data['target'], test_size=0.2)\n",
        "extra_classifier.fit(X_train_extra.reshape((-1,1)), y_train_extra + 1)\n",
        "preds = extra_classifier.predict(X_test_extra.reshape((-1,1)))\n",
        "print(accuracy_score(preds, y_test_extra + 1))\n",
        "#not bad at all\n",
        "#let's try this for train_test_split on whole dataset, as this model seems to be overfitted"
      ],
      "metadata": {
        "colab": {
          "base_uri": "https://localhost:8080/"
        },
        "id": "-zqUHob3-r8t",
        "outputId": "779eaaf9-ea2a-464d-9cf2-e18c6c35c31e"
      },
      "execution_count": 30,
      "outputs": [
        {
          "output_type": "stream",
          "name": "stdout",
          "text": [
            "0.995\n"
          ]
        }
      ]
    },
    {
      "cell_type": "code",
      "source": [
        "X_train_final, X_test_final, y_train_final, y_test_final = train_test_split(data['FBPost'], data['target'], test_size=0.2)\n",
        "vectorizer_final = TfidfVectorizer()\n",
        "train_vectors_final = vectorizer_reg.fit_transform(X_train_final)\n",
        "test_vectors_final = vectorizer_reg.transform(X_test_final)"
      ],
      "metadata": {
        "id": "v8AeRUWQA0wD"
      },
      "execution_count": 31,
      "outputs": []
    },
    {
      "cell_type": "code",
      "source": [
        "final_regressor = xgboost.XGBRegressor(learning_rate=0.52, n_estimators=90)\n",
        "final_regressor.fit(train_vectors_final, y_train_final)\n",
        "new_train_final = final_regressor.predict(train_vectors_final)\n",
        "extra_classifier = xgboost.XGBClassifier(learning_rate=0.1, n_estimators=100)\n",
        "extra_classifier.fit(new_train_final.reshape((-1,1)), y_train_final + 1)\n",
        "new_test = final_regressor.predict(test_vectors_final)\n",
        "preds = extra_classifier.predict(new_test.reshape((-1,1)))\n",
        "print(accuracy_score(preds, y_test_final + 1))\n",
        "#test performance not that good\n"
      ],
      "metadata": {
        "colab": {
          "base_uri": "https://localhost:8080/"
        },
        "id": "6egWS2_pBoIs",
        "outputId": "05c679ab-2947-4dc5-b943-21eb95357bff"
      },
      "execution_count": 32,
      "outputs": [
        {
          "output_type": "stream",
          "name": "stdout",
          "text": [
            "0.745\n"
          ]
        }
      ]
    },
    {
      "cell_type": "code",
      "source": [
        "#we also can try to find a, b tresholds\n",
        "def apply_tresholds(val):\n",
        "  if val <= a / 100:\n",
        "    return -1\n",
        "  if val <= b / 100:\n",
        "    return 0\n",
        "  return 1\n",
        "scores_ab = []\n",
        "for a in range(-100, 100, 1):\n",
        "  row = []\n",
        "  for b in range(-100, 100, 1):\n",
        "    preds_categorical = np.array([apply_tresholds(val) for val in new_test])\n",
        "    row.append(accuracy_score(preds_categorical, y_test_final))\n",
        "  scores_ab.append(row)\n",
        "scores_ab_df = pd.DataFrame(\n",
        "  scores_ab, \n",
        "  columns=list(range(-100, 100, 1)),\n",
        "  index=list(range(-100, 100, 1))\n",
        ")\n",
        "print(max(scores_ab_df.max()))\n",
        "#this is still worse than classifier"
      ],
      "metadata": {
        "colab": {
          "base_uri": "https://localhost:8080/"
        },
        "id": "hNfNEPnoCkYW",
        "outputId": "a33e5be1-c922-4217-a0f7-c5faeb2fecd2"
      },
      "execution_count": 33,
      "outputs": [
        {
          "output_type": "stream",
          "name": "stdout",
          "text": [
            "0.765\n"
          ]
        }
      ]
    },
    {
      "cell_type": "code",
      "source": [],
      "metadata": {
        "id": "kjzgtCFjGVz9"
      },
      "execution_count": 33,
      "outputs": []
    }
  ]
}